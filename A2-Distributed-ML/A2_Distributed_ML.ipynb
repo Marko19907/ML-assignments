{
  "cells": [
    {
      "cell_type": "markdown",
      "metadata": {
        "id": "view-in-github",
        "colab_type": "text"
      },
      "source": [
        "<a href=\"https://colab.research.google.com/github/Marko19907/ML-assignments/blob/main/A2-Distributed-ML/A2_Distributed_ML.ipynb\" target=\"_parent\"><img src=\"https://colab.research.google.com/assets/colab-badge.svg\" alt=\"Open In Colab\"/></a>"
      ]
    },
    {
      "cell_type": "markdown",
      "metadata": {
        "id": "tFyUFpnVkLrL"
      },
      "source": [
        "### Getting the data"
      ]
    },
    {
      "cell_type": "code",
      "execution_count": null,
      "metadata": {
        "colab": {
          "base_uri": "https://localhost:8080/"
        },
        "id": "2SV8CcyZzRTD",
        "outputId": "48b3a9a6-28d8-4b78-9459-6ae4484846f2"
      },
      "outputs": [
        {
          "output_type": "stream",
          "name": "stdout",
          "text": [
            "Downloading data from https://storage.googleapis.com/tensorflow/tf-keras-datasets/mnist.npz\n",
            "11490434/11490434 [==============================] - 0s 0us/step\n",
            "(60000, 784)\n",
            "(10000, 784)\n"
          ]
        }
      ],
      "source": [
        "# Get the data set\n",
        "\n",
        "import numpy as np\n",
        "import keras\n",
        "from keras.datasets.mnist import load_data\n",
        "\n",
        "(xtrain, ytrain), (xtest, ytest) = load_data()\n",
        "xtrain = xtrain.astype('float32') / 255.\n",
        "xtest = xtest.astype('float32') / 255.\n",
        "xtrain = xtrain.reshape(len(xtrain), np.prod(xtrain.shape[1:]))\n",
        "xtest = xtest.reshape(len(xtest), np.prod(xtest.shape[1:]))\n",
        "\n",
        "\n",
        "print(xtrain.shape)\n",
        "print(xtest.shape)"
      ]
    },
    {
      "cell_type": "code",
      "execution_count": null,
      "metadata": {
        "colab": {
          "base_uri": "https://localhost:8080/",
          "height": 146
        },
        "id": "4-5QYhIo1-Rm",
        "outputId": "d80b2373-3e67-41fb-9aac-878901af54b8"
      },
      "outputs": [
        {
          "output_type": "display_data",
          "data": {
            "text/plain": [
              "<Figure size 1440x288 with 10 Axes>"
            ],
            "image/png": "[encoded data removed]"
          },
          "metadata": {
            "needs_background": "light"
          }
        },
        {
          "output_type": "stream",
          "name": "stdout",
          "text": [
            "[7 2 1 0 4 1 4 9 5 9]\n"
          ]
        }
      ],
      "source": [
        "# Display some images\n",
        "\n",
        "import matplotlib.pyplot as plt\n",
        "\n",
        "n: int = 10\n",
        "plt.figure(figsize=(20, 4))\n",
        "\n",
        "for i in range(n):\n",
        "    ax = plt.subplot(2, n, i + 1)\n",
        "    plt.imshow(xtest[i].reshape(28, 28))\n",
        "    plt.gray()\n",
        "    ax.get_xaxis().set_visible(False)\n",
        "    ax.get_yaxis().set_visible(False)\n",
        "\n",
        "plt.show()\n",
        "\n",
        "print(ytest[0:10])"
      ]
    },
    {
      "cell_type": "markdown",
      "metadata": {
        "id": "1vGaNVAjkTvs"
      },
      "source": [
        "### Prepare the data and model for training"
      ]
    },
    {
      "cell_type": "code",
      "execution_count": null,
      "metadata": {
        "id": "wSszqI3v54R8"
      },
      "outputs": [],
      "source": [
        "# Displays the number in the array[index] position\n",
        "def displayNumber(array, index: int):\n",
        "  plt.figure(figsize=(20, 4))\n",
        "\n",
        "  ax = plt.subplot(2, 1, 1)\n",
        "  plt.imshow(array[index].reshape(28, 28))\n",
        "  plt.gray()\n",
        "  ax.get_xaxis().set_visible(False)\n",
        "  ax.get_yaxis().set_visible(False)\n",
        "\n",
        "  plt.show()"
      ]
    },
    {
      "cell_type": "code",
      "execution_count": null,
      "metadata": {
        "colab": {
          "base_uri": "https://localhost:8080/",
          "height": 249
        },
        "id": "2bJqsvvB1-Ge",
        "outputId": "7eae0f8b-54a4-4436-9514-bad3dd6588e2"
      },
      "outputs": [
        {
          "output_type": "display_data",
          "data": {
            "text/plain": [
              "<Figure size 1440x288 with 1 Axes>"
            ],
            "image/png": "[encoded data removed]"
          },
          "metadata": {
            "needs_background": "light"
          }
        },
        {
          "output_type": "display_data",
          "data": {
            "text/plain": [
              "<Figure size 1440x288 with 1 Axes>"
            ],
            "image/png": "[encoded data removed]"
          },
          "metadata": {
            "needs_background": "light"
          }
        }
      ],
      "source": [
        "# Sort the data set by digits\n",
        "\n",
        "idx = np.argsort(ytrain)\n",
        "x_train_sorted = xtrain[idx]\n",
        "y_train_sorted = ytrain[idx]\n",
        "\n",
        "xzeros = xtrain[ytrain == 0]\n",
        "xones = xtrain[ytrain == 1]\n",
        "\n",
        "displayNumber(xzeros, 5)\n",
        "displayNumber(xones, 10)"
      ]
    },
    {
      "cell_type": "code",
      "execution_count": null,
      "metadata": {
        "colab": {
          "base_uri": "https://localhost:8080/"
        },
        "id": "YECl9ml4-tpl",
        "outputId": "be209639-409b-4ff0-db01-71637e9caa33"
      },
      "outputs": [
        {
          "output_type": "stream",
          "name": "stdout",
          "text": [
            "0-2:  (18623, 784) (18623,)\n",
            "3-5:  (17394, 784) (17394,)\n",
            "6-9:  (23983, 784) (23983,)\n"
          ]
        }
      ],
      "source": [
        "# Divide the data into 3 local sections by digits: 0-2, 3-5, and 6-9\n",
        "\n",
        "xzeros  = xtrain[ytrain == 0]\n",
        "xones   = xtrain[ytrain == 1]\n",
        "xtwos   = xtrain[ytrain == 2]\n",
        "xthrees = xtrain[ytrain == 3]\n",
        "xfours  = xtrain[ytrain == 4]\n",
        "xfives  = xtrain[ytrain == 5]\n",
        "xsixes  = xtrain[ytrain == 6]\n",
        "xsevens = xtrain[ytrain == 7]\n",
        "xeights = xtrain[ytrain == 8]\n",
        "xnines  = xtrain[ytrain == 9]\n",
        "\n",
        "\n",
        "xzeroTwos = np.concatenate([xzeros, xones, xtwos])\n",
        "yzeroTwos = np.concatenate([np.repeat(0, len(xzeros)), np.repeat(1, len(xones)), np.repeat(2, len(xtwos))])\n",
        "\n",
        "xthreeFives = np.concatenate([xthrees, xfours, xfives])\n",
        "ythreeFives = np.concatenate([np.repeat(3, len(xthrees)), np.repeat(4, len(xfours)), np.repeat(5, len(xfives))])\n",
        "\n",
        "xsixNines = np.concatenate([xsixes, xsevens, xeights, xnines])\n",
        "ysixNines = np.concatenate([np.repeat(6, len(xsixes)), np.repeat(7, len(xsevens)), np.repeat(8, len(xeights)), np.repeat(9, len(xnines))])\n",
        "\n",
        "\n",
        "print(\"0-2: \", xzeroTwos.shape, yzeroTwos.shape)\n",
        "print(\"3-5: \", xthreeFives.shape, ythreeFives.shape)\n",
        "print(\"6-9: \", xsixNines.shape, ysixNines.shape)"
      ]
    },
    {
      "cell_type": "code",
      "execution_count": null,
      "metadata": {
        "id": "tIOYyqNZkV-L"
      },
      "outputs": [],
      "source": [
        "# Shuffle the data\n",
        "\n",
        "from sklearn.utils import shuffle\n",
        "\n",
        "\n",
        "xzeroTwos, yzeroTwos = shuffle(xzeroTwos, yzeroTwos, random_state=42)\n",
        "\n",
        "xthreeFives, ythreeFives = shuffle(xthreeFives, ythreeFives, random_state=42)\n",
        "\n",
        "xsixNines, ysixNines = shuffle(xsixNines, ysixNines, random_state=42)"
      ]
    },
    {
      "cell_type": "code",
      "execution_count": null,
      "metadata": {
        "id": "FM7kVAET-w3V"
      },
      "outputs": [],
      "source": [
        "# Split into training (80%) and testing (20%) sets\n",
        "\n",
        "from sklearn.model_selection import train_test_split\n",
        "\n",
        "xzeroTwosTrain, xzeroTwosTest, yzeroTwosTrain, yzeroTwosTest = train_test_split(xzeroTwos, yzeroTwos, test_size=0.2, random_state=42)\n",
        "xthreeFivesTrain, xthreeFivesTest, ythreeFivesTrain, ythreeFivesTest = train_test_split(xthreeFives, ythreeFives, test_size=0.2, random_state=42)\n",
        "xsixNinesTrain, xsixNinesTest, ysixNinesTrain, ysixNinesTest = train_test_split(xsixNines, ysixNines, test_size=0.2, random_state=42)"
      ]
    },
    {
      "cell_type": "markdown",
      "metadata": {
        "id": "T5ecaqG5ZFB3"
      },
      "source": [
        "### Ensemble Model"
      ]
    },
    {
      "cell_type": "code",
      "execution_count": null,
      "metadata": {
        "id": "iPBuvmsVZbSx",
        "colab": {
          "base_uri": "https://localhost:8080/"
        },
        "outputId": "4b41101c-dd21-46e2-fdfa-2b26997ea471"
      },
      "outputs": [
        {
          "output_type": "stream",
          "name": "stdout",
          "text": [
            "Iteration 1, loss = 0.29014050\n",
            "Validation score: 0.983221\n",
            "Iteration 2, loss = 0.10545914\n",
            "Validation score: 0.987248\n",
            "Iteration 3, loss = 0.03239594\n",
            "Validation score: 0.989933\n",
            "Iteration 4, loss = 0.01770815\n",
            "Validation score: 0.992617\n",
            "Iteration 5, loss = 0.01808530\n",
            "Validation score: 0.994631\n",
            "Iteration 6, loss = 0.00911322\n",
            "Validation score: 0.995302\n",
            "Iteration 7, loss = 0.00707562\n",
            "Validation score: 0.995973\n",
            "Iteration 8, loss = 0.02121767\n",
            "Validation score: 0.993960\n",
            "Iteration 9, loss = 0.00377787\n",
            "Validation score: 0.994631\n",
            "Iteration 10, loss = 0.00194495\n",
            "Validation score: 0.995302\n",
            "Iteration 11, loss = 0.00184352\n",
            "Validation score: 0.995973\n",
            "Iteration 12, loss = 0.00096447\n",
            "Validation score: 0.996644\n",
            "Iteration 13, loss = 0.00070892\n",
            "Validation score: 0.995973\n",
            "Iteration 14, loss = 0.00059403\n",
            "Validation score: 0.995973\n",
            "Iteration 15, loss = 0.00051251\n",
            "Validation score: 0.995973\n",
            "Iteration 16, loss = 0.00044630\n",
            "Validation score: 0.995973\n",
            "Iteration 17, loss = 0.00040834\n",
            "Validation score: 0.995973\n",
            "Iteration 18, loss = 0.00036676\n",
            "Validation score: 0.995973\n",
            "Iteration 19, loss = 0.00033763\n",
            "Validation score: 0.995973\n",
            "Iteration 20, loss = 0.00031765\n",
            "Validation score: 0.995973\n",
            "Iteration 21, loss = 0.00030843\n",
            "Validation score: 0.996644\n",
            "Iteration 22, loss = 0.00028420\n",
            "Validation score: 0.995973\n",
            "Iteration 23, loss = 0.00026882\n",
            "Validation score: 0.996644\n",
            "Validation score did not improve more than tol=0.000100 for 10 consecutive epochs. Stopping.\n",
            "Iteration 1, loss = 0.39559200\n",
            "Validation score: 0.972701\n",
            "Iteration 2, loss = 0.13362514\n",
            "Validation score: 0.978448\n",
            "Iteration 3, loss = 0.05767204\n",
            "Validation score: 0.983477\n",
            "Iteration 4, loss = 0.03109482\n",
            "Validation score: 0.987069\n",
            "Iteration 5, loss = 0.01713437\n",
            "Validation score: 0.988506\n",
            "Iteration 6, loss = 0.01384405\n",
            "Validation score: 0.992098\n",
            "Iteration 7, loss = 0.00962968\n",
            "Validation score: 0.989943\n",
            "Iteration 8, loss = 0.00427654\n",
            "Validation score: 0.991379\n",
            "Iteration 9, loss = 0.00270904\n",
            "Validation score: 0.988506\n",
            "Iteration 10, loss = 0.00191476\n",
            "Validation score: 0.989943\n",
            "Iteration 11, loss = 0.00151564\n",
            "Validation score: 0.991379\n",
            "Iteration 12, loss = 0.00163469\n",
            "Validation score: 0.990661\n",
            "Iteration 13, loss = 0.00112603\n",
            "Validation score: 0.990661\n",
            "Iteration 14, loss = 0.00062782\n",
            "Validation score: 0.991379\n",
            "Iteration 15, loss = 0.00050785\n",
            "Validation score: 0.989224\n",
            "Iteration 16, loss = 0.00044691\n",
            "Validation score: 0.991379\n",
            "Iteration 17, loss = 0.00040739\n",
            "Validation score: 0.992098\n",
            "Validation score did not improve more than tol=0.000100 for 10 consecutive epochs. Stopping.\n",
            "Iteration 1, loss = 0.22279343\n",
            "Validation score: 0.964044\n",
            "Iteration 2, loss = 0.06685664\n",
            "Validation score: 0.979677\n",
            "Iteration 3, loss = 0.04002093\n",
            "Validation score: 0.986451\n",
            "Iteration 4, loss = 0.02437486\n",
            "Validation score: 0.984367\n",
            "Iteration 5, loss = 0.01505667\n",
            "Validation score: 0.983846\n",
            "Iteration 6, loss = 0.01119022\n",
            "Validation score: 0.984888\n",
            "Iteration 7, loss = 0.00868397\n",
            "Validation score: 0.985930\n",
            "Iteration 8, loss = 0.00414743\n",
            "Validation score: 0.986451\n",
            "Iteration 9, loss = 0.00407219\n",
            "Validation score: 0.980719\n",
            "Iteration 10, loss = 0.00391537\n",
            "Validation score: 0.985930\n",
            "Iteration 11, loss = 0.00786929\n",
            "Validation score: 0.988536\n",
            "Iteration 12, loss = 0.00440811\n",
            "Validation score: 0.991662\n",
            "Iteration 13, loss = 0.00365205\n",
            "Validation score: 0.988015\n",
            "Iteration 14, loss = 0.00552654\n",
            "Validation score: 0.988015\n",
            "Iteration 15, loss = 0.00987944\n",
            "Validation score: 0.983325\n",
            "Iteration 16, loss = 0.00345173\n",
            "Validation score: 0.986451\n",
            "Iteration 17, loss = 0.00112603\n",
            "Validation score: 0.989578\n",
            "Iteration 18, loss = 0.00058848\n",
            "Validation score: 0.990620\n",
            "Iteration 19, loss = 0.00039632\n",
            "Validation score: 0.991662\n",
            "Iteration 20, loss = 0.00036590\n",
            "Validation score: 0.991662\n",
            "Iteration 21, loss = 0.00035483\n",
            "Validation score: 0.992183\n",
            "Iteration 22, loss = 0.00034688\n",
            "Validation score: 0.991662\n",
            "Iteration 23, loss = 0.00034042\n",
            "Validation score: 0.992183\n",
            "Iteration 24, loss = 0.00033521\n",
            "Validation score: 0.991662\n",
            "Iteration 25, loss = 0.00033067\n",
            "Validation score: 0.992183\n",
            "Iteration 26, loss = 0.00032651\n",
            "Validation score: 0.992183\n",
            "Iteration 27, loss = 0.00032298\n",
            "Validation score: 0.992183\n",
            "Iteration 28, loss = 0.00031971\n",
            "Validation score: 0.992183\n",
            "Iteration 29, loss = 0.00031665\n",
            "Validation score: 0.992183\n",
            "Iteration 30, loss = 0.00031392\n",
            "Validation score: 0.992183\n",
            "Iteration 31, loss = 0.00031133\n",
            "Validation score: 0.992183\n",
            "Iteration 32, loss = 0.00030885\n",
            "Validation score: 0.992183\n",
            "Validation score did not improve more than tol=0.000100 for 10 consecutive epochs. Stopping.\n",
            "Model 1: 0.9959731543624161\n",
            "Model 2: 0.9830411037654498\n",
            "Model 3: 0.9902022097144049\n"
          ]
        }
      ],
      "source": [
        "from sklearn.neural_network import MLPClassifier\n",
        "from sklearn.metrics import accuracy_score\n",
        "\n",
        "# Instantiate the learners (classifiers)\n",
        "model1 = MLPClassifier(hidden_layer_sizes=(256, 128, 3 ), max_iter=100, activation = 'relu', solver='adam', random_state=42, early_stopping=True, verbose=1)\n",
        "model2 = MLPClassifier(hidden_layer_sizes=(256, 128, 6 ), max_iter=100, activation = 'relu', solver='adam', random_state=42, early_stopping=True, verbose=1)\n",
        "model3 = MLPClassifier(hidden_layer_sizes=(512, 256, 10), max_iter=100, activation = 'relu', solver='adam', random_state=42, early_stopping=True, verbose=1)\n",
        "\n",
        "# Fit classifier with the training data. \n",
        "model1.fit(xzeroTwosTrain, yzeroTwosTrain)\n",
        "model2.fit(xthreeFivesTrain, ythreeFivesTrain)\n",
        "model3.fit(xsixNinesTrain, ysixNinesTrain)\n",
        "\n",
        "# Get the base learner predictions\n",
        "predictions_1 = model1.predict(xzeroTwosTest)\n",
        "predictions_2 = model2.predict(xthreeFivesTest)\n",
        "predictions_3 = model3.predict(xsixNinesTest)\n",
        "\n",
        "# Accuracies of base learners\n",
        "print('Model 1:', accuracy_score(yzeroTwosTest, predictions_1))\n",
        "print('Model 2:', accuracy_score(ythreeFivesTest, predictions_2))\n",
        "print('Model 3:', accuracy_score(ysixNinesTest, predictions_3))"
      ]
    },
    {
      "cell_type": "code",
      "execution_count": null,
      "metadata": {
        "id": "AJ6ZKMQcbwaZ",
        "colab": {
          "base_uri": "https://localhost:8080/",
          "height": 1000
        },
        "outputId": "74ca27fe-f7db-4a84-b350-4c5aa3082790"
      },
      "outputs": [
        {
          "output_type": "stream",
          "name": "stdout",
          "text": [
            "Iteration 1, loss = 1.34366770\n",
            "Validation score: 0.804333\n",
            "Iteration 2, loss = 0.68538518\n",
            "Validation score: 0.844833\n",
            "Iteration 3, loss = 0.48636023\n",
            "Validation score: 0.936667\n",
            "Iteration 4, loss = 0.30553858\n",
            "Validation score: 0.942333\n",
            "Iteration 5, loss = 0.23384903\n",
            "Validation score: 0.944167\n",
            "Iteration 6, loss = 0.14843063\n",
            "Validation score: 0.953000\n",
            "Iteration 7, loss = 0.09960933\n",
            "Validation score: 0.953667\n",
            "Iteration 8, loss = 0.07606515\n",
            "Validation score: 0.954667\n",
            "Iteration 9, loss = 0.06108079\n",
            "Validation score: 0.959333\n",
            "Iteration 10, loss = 0.04701453\n",
            "Validation score: 0.957333\n",
            "Iteration 11, loss = 0.03995422\n",
            "Validation score: 0.959833\n",
            "Iteration 12, loss = 0.03229325\n",
            "Validation score: 0.958833\n",
            "Iteration 13, loss = 0.02503748\n",
            "Validation score: 0.961167\n",
            "Iteration 14, loss = 0.02716271\n",
            "Validation score: 0.958333\n",
            "Iteration 15, loss = 0.02117526\n",
            "Validation score: 0.959833\n",
            "Iteration 16, loss = 0.02013653\n",
            "Validation score: 0.955500\n",
            "Iteration 17, loss = 0.02345349\n",
            "Validation score: 0.959833\n",
            "Iteration 18, loss = 0.01728442\n",
            "Validation score: 0.960167\n",
            "Iteration 19, loss = 0.01929122\n",
            "Validation score: 0.957833\n",
            "Iteration 20, loss = 0.01488621\n",
            "Validation score: 0.962000\n",
            "Iteration 21, loss = 0.01366645\n",
            "Validation score: 0.966167\n",
            "Iteration 22, loss = 0.01437048\n",
            "Validation score: 0.965500\n",
            "Iteration 23, loss = 0.01042592\n",
            "Validation score: 0.965000\n",
            "Iteration 24, loss = 0.01592986\n",
            "Validation score: 0.963167\n",
            "Iteration 25, loss = 0.01220128\n",
            "Validation score: 0.965167\n",
            "Iteration 26, loss = 0.01027960\n",
            "Validation score: 0.966500\n",
            "Iteration 27, loss = 0.01614921\n",
            "Validation score: 0.965833\n",
            "Iteration 28, loss = 0.01083866\n",
            "Validation score: 0.966667\n",
            "Iteration 29, loss = 0.00980169\n",
            "Validation score: 0.965500\n",
            "Iteration 30, loss = 0.00644226\n",
            "Validation score: 0.966500\n",
            "Iteration 31, loss = 0.00777151\n",
            "Validation score: 0.966000\n",
            "Iteration 32, loss = 0.02062483\n",
            "Validation score: 0.962333\n",
            "Iteration 33, loss = 0.01662909\n",
            "Validation score: 0.967500\n",
            "Iteration 34, loss = 0.00807743\n",
            "Validation score: 0.969167\n",
            "Iteration 35, loss = 0.01621311\n",
            "Validation score: 0.965667\n",
            "Iteration 36, loss = 0.00787026\n",
            "Validation score: 0.967000\n",
            "Iteration 37, loss = 0.00457858\n",
            "Validation score: 0.965500\n",
            "Iteration 38, loss = 0.01214129\n",
            "Validation score: 0.966833\n",
            "Iteration 39, loss = 0.00764038\n",
            "Validation score: 0.965333\n",
            "Iteration 40, loss = 0.01035529\n",
            "Validation score: 0.968000\n",
            "Iteration 41, loss = 0.00760312\n",
            "Validation score: 0.969667\n",
            "Iteration 42, loss = 0.01048121\n",
            "Validation score: 0.969167\n",
            "Iteration 43, loss = 0.00645820\n",
            "Validation score: 0.965667\n",
            "Iteration 44, loss = 0.00678595\n",
            "Validation score: 0.968833\n",
            "Iteration 45, loss = 0.00496925\n",
            "Validation score: 0.969000\n",
            "Iteration 46, loss = 0.01558158\n",
            "Validation score: 0.965500\n",
            "Iteration 47, loss = 0.01042971\n",
            "Validation score: 0.967167\n",
            "Iteration 48, loss = 0.00774379\n",
            "Validation score: 0.967667\n",
            "Iteration 49, loss = 0.00654588\n",
            "Validation score: 0.966667\n",
            "Iteration 50, loss = 0.01031107\n",
            "Validation score: 0.969333\n",
            "Iteration 51, loss = 0.00904470\n",
            "Validation score: 0.968500\n",
            "Iteration 52, loss = 0.00736095\n",
            "Validation score: 0.968000\n",
            "Validation score did not improve more than tol=0.000100 for 10 consecutive epochs. Stopping.\n",
            "Iteration 1, loss = 0.80869868\n",
            "Validation score: 0.934667\n",
            "Iteration 2, loss = 0.21381139\n",
            "Validation score: 0.957167\n",
            "Iteration 3, loss = 0.13443827\n",
            "Validation score: 0.960000\n",
            "Iteration 4, loss = 0.09997130\n",
            "Validation score: 0.971500\n",
            "Iteration 5, loss = 0.07688887\n",
            "Validation score: 0.971500\n",
            "Iteration 6, loss = 0.05933536\n",
            "Validation score: 0.975000\n",
            "Iteration 7, loss = 0.04607603\n",
            "Validation score: 0.968333\n",
            "Iteration 8, loss = 0.03655248\n",
            "Validation score: 0.975000\n",
            "Iteration 9, loss = 0.02904309\n",
            "Validation score: 0.974833\n",
            "Iteration 10, loss = 0.02396117\n",
            "Validation score: 0.975167\n",
            "Iteration 11, loss = 0.01998435\n",
            "Validation score: 0.979833\n",
            "Iteration 12, loss = 0.01660094\n",
            "Validation score: 0.967500\n",
            "Iteration 13, loss = 0.01705982\n",
            "Validation score: 0.977000\n",
            "Iteration 14, loss = 0.01070354\n",
            "Validation score: 0.978000\n",
            "Iteration 15, loss = 0.00957939\n",
            "Validation score: 0.977833\n",
            "Iteration 16, loss = 0.01403531\n",
            "Validation score: 0.978333\n",
            "Iteration 17, loss = 0.01416840\n",
            "Validation score: 0.972000\n",
            "Iteration 18, loss = 0.01181822\n",
            "Validation score: 0.976833\n",
            "Iteration 19, loss = 0.00642777\n",
            "Validation score: 0.975667\n",
            "Iteration 20, loss = 0.00332768\n",
            "Validation score: 0.978000\n",
            "Iteration 21, loss = 0.00262466\n",
            "Validation score: 0.977667\n",
            "Iteration 22, loss = 0.01484262\n",
            "Validation score: 0.973333\n",
            "Validation score did not improve more than tol=0.000100 for 10 consecutive epochs. Stopping.\n",
            "Iteration 1, loss = 0.38620720\n",
            "Validation score: 0.945667\n",
            "Iteration 2, loss = 0.11981585\n",
            "Validation score: 0.961500\n",
            "Iteration 3, loss = 0.07759129\n",
            "Validation score: 0.971000\n",
            "Iteration 4, loss = 0.05226261\n",
            "Validation score: 0.972667\n",
            "Iteration 5, loss = 0.03758768\n",
            "Validation score: 0.976000\n",
            "Iteration 6, loss = 0.02811836\n",
            "Validation score: 0.973333\n",
            "Iteration 7, loss = 0.02022906\n",
            "Validation score: 0.972167\n",
            "Iteration 8, loss = 0.01739812\n",
            "Validation score: 0.972667\n",
            "Iteration 9, loss = 0.01438022\n",
            "Validation score: 0.976667\n",
            "Iteration 10, loss = 0.01206988\n",
            "Validation score: 0.975833\n",
            "Iteration 11, loss = 0.01416172\n",
            "Validation score: 0.974333\n",
            "Iteration 12, loss = 0.01042764\n",
            "Validation score: 0.976500\n",
            "Iteration 13, loss = 0.01048919\n",
            "Validation score: 0.974500\n",
            "Iteration 14, loss = 0.01344712\n",
            "Validation score: 0.978167\n",
            "Iteration 15, loss = 0.00751146\n",
            "Validation score: 0.975333\n",
            "Iteration 16, loss = 0.01061731\n",
            "Validation score: 0.975167\n",
            "Iteration 17, loss = 0.00705710\n",
            "Validation score: 0.979333\n",
            "Iteration 18, loss = 0.01387518\n",
            "Validation score: 0.976833\n",
            "Iteration 19, loss = 0.00753096\n",
            "Validation score: 0.981167\n",
            "Iteration 20, loss = 0.00503839\n",
            "Validation score: 0.975167\n",
            "Iteration 21, loss = 0.00525493\n",
            "Validation score: 0.978167\n",
            "Iteration 22, loss = 0.00831880\n",
            "Validation score: 0.976000\n",
            "Iteration 23, loss = 0.00913376\n",
            "Validation score: 0.977000\n",
            "Iteration 24, loss = 0.00991409\n",
            "Validation score: 0.976500\n",
            "Iteration 25, loss = 0.00701307\n",
            "Validation score: 0.977667\n",
            "Iteration 26, loss = 0.00516566\n",
            "Validation score: 0.980000\n",
            "Iteration 27, loss = 0.00440802\n",
            "Validation score: 0.978667\n",
            "Iteration 28, loss = 0.00298163\n",
            "Validation score: 0.979833\n",
            "Iteration 29, loss = 0.01014451\n",
            "Validation score: 0.977500\n",
            "Iteration 30, loss = 0.00814155\n",
            "Validation score: 0.979000\n",
            "Validation score did not improve more than tol=0.000100 for 10 consecutive epochs. Stopping.\n",
            "------------------------------\n",
            "Hard voting: 0.9809\n"
          ]
        },
        {
          "output_type": "stream",
          "name": "stderr",
          "text": [
            "/usr/local/lib/python3.7/dist-packages/sklearn/utils/deprecation.py:87: FutureWarning: Function plot_confusion_matrix is deprecated; Function `plot_confusion_matrix` is deprecated in 1.0 and will be removed in 1.2. Use one of the class methods: ConfusionMatrixDisplay.from_predictions or ConfusionMatrixDisplay.from_estimator.\n",
            "  warnings.warn(msg, category=FutureWarning)\n"
          ]
        },
        {
          "output_type": "display_data",
          "data": {
            "text/plain": [
              "<Figure size 432x288 with 2 Axes>"
            ],
            "image/png": "[encoded data removed]"
          },
          "metadata": {
            "needs_background": "light"
          }
        }
      ],
      "source": [
        "# Hard voting\n",
        "\n",
        "from sklearn.ensemble import VotingClassifier\n",
        "from sklearn.metrics import accuracy_score, confusion_matrix, plot_confusion_matrix, classification_report\n",
        "\n",
        "\n",
        "classifiers = [\n",
        "    ('MLP (0-2)', model1),\n",
        "    ('MLP (3-5)', model2),\n",
        "    ('MLP (6-9)', model3),\n",
        "  ]\n",
        "voting_hard_classifier = VotingClassifier(estimators = classifiers, voting='hard', weights=[1,1,1])\n",
        "\n",
        "\n",
        "# Fit classifier with the training data\n",
        "voting_hard_classifier.fit(xtrain, ytrain)\n",
        "\n",
        "# Predict the most voted class (most probable class)\n",
        "hard_predictions = voting_hard_classifier.predict(xtest)\n",
        "\n",
        "# Evaluate both models\n",
        "print('-'*30)\n",
        "print('Hard voting:', accuracy_score(ytest, hard_predictions))\n",
        "\n",
        "plot_confusion_matrix(voting_hard_classifier, xtest, ytest, cmap=plt.cm.Blues)\n",
        "plt.show()"
      ]
    },
    {
      "cell_type": "code",
      "execution_count": null,
      "metadata": {
        "id": "gJxQqhTUoTWT",
        "colab": {
          "base_uri": "https://localhost:8080/",
          "height": 1000
        },
        "outputId": "781bd8c9-f337-4a70-e1c2-bcccf1321bd3"
      },
      "outputs": [
        {
          "output_type": "stream",
          "name": "stdout",
          "text": [
            "Iteration 1, loss = 1.34366770\n",
            "Validation score: 0.804333\n",
            "Iteration 2, loss = 0.68538518\n",
            "Validation score: 0.844833\n",
            "Iteration 3, loss = 0.48636023\n",
            "Validation score: 0.936667\n",
            "Iteration 4, loss = 0.30553858\n",
            "Validation score: 0.942333\n",
            "Iteration 5, loss = 0.23384903\n",
            "Validation score: 0.944167\n",
            "Iteration 6, loss = 0.14843063\n",
            "Validation score: 0.953000\n",
            "Iteration 7, loss = 0.09960933\n",
            "Validation score: 0.953667\n",
            "Iteration 8, loss = 0.07606515\n",
            "Validation score: 0.954667\n",
            "Iteration 9, loss = 0.06108079\n",
            "Validation score: 0.959333\n",
            "Iteration 10, loss = 0.04701453\n",
            "Validation score: 0.957333\n",
            "Iteration 11, loss = 0.03995422\n",
            "Validation score: 0.959833\n",
            "Iteration 12, loss = 0.03229325\n",
            "Validation score: 0.958833\n",
            "Iteration 13, loss = 0.02503748\n",
            "Validation score: 0.961167\n",
            "Iteration 14, loss = 0.02716271\n",
            "Validation score: 0.958333\n",
            "Iteration 15, loss = 0.02117526\n",
            "Validation score: 0.959833\n",
            "Iteration 16, loss = 0.02013653\n",
            "Validation score: 0.955500\n",
            "Iteration 17, loss = 0.02345349\n",
            "Validation score: 0.959833\n",
            "Iteration 18, loss = 0.01728442\n",
            "Validation score: 0.960167\n",
            "Iteration 19, loss = 0.01929122\n",
            "Validation score: 0.957833\n",
            "Iteration 20, loss = 0.01488621\n",
            "Validation score: 0.962000\n",
            "Iteration 21, loss = 0.01366645\n",
            "Validation score: 0.966167\n",
            "Iteration 22, loss = 0.01437048\n",
            "Validation score: 0.965500\n",
            "Iteration 23, loss = 0.01042592\n",
            "Validation score: 0.965000\n",
            "Iteration 24, loss = 0.01592986\n",
            "Validation score: 0.963167\n",
            "Iteration 25, loss = 0.01220128\n",
            "Validation score: 0.965167\n",
            "Iteration 26, loss = 0.01027960\n",
            "Validation score: 0.966500\n",
            "Iteration 27, loss = 0.01614921\n",
            "Validation score: 0.965833\n",
            "Iteration 28, loss = 0.01083866\n",
            "Validation score: 0.966667\n",
            "Iteration 29, loss = 0.00980169\n",
            "Validation score: 0.965500\n",
            "Iteration 30, loss = 0.00644226\n",
            "Validation score: 0.966500\n",
            "Iteration 31, loss = 0.00777151\n",
            "Validation score: 0.966000\n",
            "Iteration 32, loss = 0.02062483\n",
            "Validation score: 0.962333\n",
            "Iteration 33, loss = 0.01662909\n",
            "Validation score: 0.967500\n",
            "Iteration 34, loss = 0.00807743\n",
            "Validation score: 0.969167\n",
            "Iteration 35, loss = 0.01621311\n",
            "Validation score: 0.965667\n",
            "Iteration 36, loss = 0.00787026\n",
            "Validation score: 0.967000\n",
            "Iteration 37, loss = 0.00457858\n",
            "Validation score: 0.965500\n",
            "Iteration 38, loss = 0.01214129\n",
            "Validation score: 0.966833\n",
            "Iteration 39, loss = 0.00764038\n",
            "Validation score: 0.965333\n",
            "Iteration 40, loss = 0.01035529\n",
            "Validation score: 0.968000\n",
            "Iteration 41, loss = 0.00760312\n",
            "Validation score: 0.969667\n",
            "Iteration 42, loss = 0.01048121\n",
            "Validation score: 0.969167\n",
            "Iteration 43, loss = 0.00645820\n",
            "Validation score: 0.965667\n",
            "Iteration 44, loss = 0.00678595\n",
            "Validation score: 0.968833\n",
            "Iteration 45, loss = 0.00496925\n",
            "Validation score: 0.969000\n",
            "Iteration 46, loss = 0.01558158\n",
            "Validation score: 0.965500\n",
            "Iteration 47, loss = 0.01042971\n",
            "Validation score: 0.967167\n",
            "Iteration 48, loss = 0.00774379\n",
            "Validation score: 0.967667\n",
            "Iteration 49, loss = 0.00654588\n",
            "Validation score: 0.966667\n",
            "Iteration 50, loss = 0.01031107\n",
            "Validation score: 0.969333\n",
            "Iteration 51, loss = 0.00904470\n",
            "Validation score: 0.968500\n",
            "Iteration 52, loss = 0.00736095\n",
            "Validation score: 0.968000\n",
            "Validation score did not improve more than tol=0.000100 for 10 consecutive epochs. Stopping.\n",
            "Iteration 1, loss = 0.80869868\n",
            "Validation score: 0.934667\n",
            "Iteration 2, loss = 0.21381139\n",
            "Validation score: 0.957167\n",
            "Iteration 3, loss = 0.13443827\n",
            "Validation score: 0.960000\n",
            "Iteration 4, loss = 0.09997130\n",
            "Validation score: 0.971500\n",
            "Iteration 5, loss = 0.07688887\n",
            "Validation score: 0.971500\n",
            "Iteration 6, loss = 0.05933536\n",
            "Validation score: 0.975000\n",
            "Iteration 7, loss = 0.04607603\n",
            "Validation score: 0.968333\n",
            "Iteration 8, loss = 0.03655248\n",
            "Validation score: 0.975000\n",
            "Iteration 9, loss = 0.02904309\n",
            "Validation score: 0.974833\n",
            "Iteration 10, loss = 0.02396117\n",
            "Validation score: 0.975167\n",
            "Iteration 11, loss = 0.01998435\n",
            "Validation score: 0.979833\n",
            "Iteration 12, loss = 0.01660094\n",
            "Validation score: 0.967500\n",
            "Iteration 13, loss = 0.01705982\n",
            "Validation score: 0.977000\n",
            "Iteration 14, loss = 0.01070354\n",
            "Validation score: 0.978000\n",
            "Iteration 15, loss = 0.00957939\n",
            "Validation score: 0.977833\n",
            "Iteration 16, loss = 0.01403531\n",
            "Validation score: 0.978333\n",
            "Iteration 17, loss = 0.01416840\n",
            "Validation score: 0.972000\n",
            "Iteration 18, loss = 0.01181822\n",
            "Validation score: 0.976833\n",
            "Iteration 19, loss = 0.00642777\n",
            "Validation score: 0.975667\n",
            "Iteration 20, loss = 0.00332768\n",
            "Validation score: 0.978000\n",
            "Iteration 21, loss = 0.00262466\n",
            "Validation score: 0.977667\n",
            "Iteration 22, loss = 0.01484262\n",
            "Validation score: 0.973333\n",
            "Validation score did not improve more than tol=0.000100 for 10 consecutive epochs. Stopping.\n",
            "Iteration 1, loss = 0.38620720\n",
            "Validation score: 0.945667\n",
            "Iteration 2, loss = 0.11981585\n",
            "Validation score: 0.961500\n",
            "Iteration 3, loss = 0.07759129\n",
            "Validation score: 0.971000\n",
            "Iteration 4, loss = 0.05226261\n",
            "Validation score: 0.972667\n",
            "Iteration 5, loss = 0.03758768\n",
            "Validation score: 0.976000\n",
            "Iteration 6, loss = 0.02811836\n",
            "Validation score: 0.973333\n",
            "Iteration 7, loss = 0.02022906\n",
            "Validation score: 0.972167\n",
            "Iteration 8, loss = 0.01739812\n",
            "Validation score: 0.972667\n",
            "Iteration 9, loss = 0.01438022\n",
            "Validation score: 0.976667\n",
            "Iteration 10, loss = 0.01206988\n",
            "Validation score: 0.975833\n",
            "Iteration 11, loss = 0.01416172\n",
            "Validation score: 0.974333\n",
            "Iteration 12, loss = 0.01042764\n",
            "Validation score: 0.976500\n",
            "Iteration 13, loss = 0.01048919\n",
            "Validation score: 0.974500\n",
            "Iteration 14, loss = 0.01344712\n",
            "Validation score: 0.978167\n",
            "Iteration 15, loss = 0.00751146\n",
            "Validation score: 0.975333\n",
            "Iteration 16, loss = 0.01061731\n",
            "Validation score: 0.975167\n",
            "Iteration 17, loss = 0.00705710\n",
            "Validation score: 0.979333\n",
            "Iteration 18, loss = 0.01387518\n",
            "Validation score: 0.976833\n",
            "Iteration 19, loss = 0.00753096\n",
            "Validation score: 0.981167\n",
            "Iteration 20, loss = 0.00503839\n",
            "Validation score: 0.975167\n",
            "Iteration 21, loss = 0.00525493\n",
            "Validation score: 0.978167\n",
            "Iteration 22, loss = 0.00831880\n",
            "Validation score: 0.976000\n",
            "Iteration 23, loss = 0.00913376\n",
            "Validation score: 0.977000\n",
            "Iteration 24, loss = 0.00991409\n",
            "Validation score: 0.976500\n",
            "Iteration 25, loss = 0.00701307\n",
            "Validation score: 0.977667\n",
            "Iteration 26, loss = 0.00516566\n",
            "Validation score: 0.980000\n",
            "Iteration 27, loss = 0.00440802\n",
            "Validation score: 0.978667\n",
            "Iteration 28, loss = 0.00298163\n",
            "Validation score: 0.979833\n",
            "Iteration 29, loss = 0.01014451\n",
            "Validation score: 0.977500\n",
            "Iteration 30, loss = 0.00814155\n",
            "Validation score: 0.979000\n",
            "Validation score did not improve more than tol=0.000100 for 10 consecutive epochs. Stopping.\n",
            "Soft voting: 0.9841\n",
            "              precision    recall  f1-score   support\n",
            "\n",
            "           0       0.99      0.99      0.99       980\n",
            "           1       0.99      0.99      0.99      1135\n",
            "           2       0.98      0.98      0.98      1032\n",
            "           3       0.99      0.99      0.99      1010\n",
            "           4       0.99      0.98      0.98       982\n",
            "           5       0.98      0.98      0.98       892\n",
            "           6       0.99      0.98      0.99       958\n",
            "           7       0.98      0.98      0.98      1028\n",
            "           8       0.98      0.98      0.98       974\n",
            "           9       0.98      0.98      0.98      1009\n",
            "\n",
            "    accuracy                           0.98     10000\n",
            "   macro avg       0.98      0.98      0.98     10000\n",
            "weighted avg       0.98      0.98      0.98     10000\n",
            "\n"
          ]
        },
        {
          "output_type": "stream",
          "name": "stderr",
          "text": [
            "/usr/local/lib/python3.7/dist-packages/sklearn/utils/deprecation.py:87: FutureWarning: Function plot_confusion_matrix is deprecated; Function `plot_confusion_matrix` is deprecated in 1.0 and will be removed in 1.2. Use one of the class methods: ConfusionMatrixDisplay.from_predictions or ConfusionMatrixDisplay.from_estimator.\n",
            "  warnings.warn(msg, category=FutureWarning)\n"
          ]
        },
        {
          "output_type": "display_data",
          "data": {
            "text/plain": [
              "<Figure size 432x288 with 2 Axes>"
            ],
            "image/png": "[encoded data removed]"
          },
          "metadata": {
            "needs_background": "light"
          }
        }
      ],
      "source": [
        "# Soft voting\n",
        "\n",
        "classifiers = [\n",
        "    ('MLP (0-2)', model1),\n",
        "    ('MLP (3-5)', model2),\n",
        "    ('MLP (6-9)', model3),\n",
        "  ]\n",
        "voting_soft_classifier = VotingClassifier(estimators = classifiers, voting='soft', weights=[1,1,1])\n",
        "\n",
        "voting_soft_classifier.fit(xtrain, ytrain)\n",
        "\n",
        "soft_predictions = voting_soft_classifier.predict(xtest)\n",
        "\n",
        "print('Soft voting:', accuracy_score(ytest, soft_predictions))\n",
        "\n",
        "confusion_matrix(ytest, soft_predictions)\n",
        "print(classification_report(ytest, soft_predictions))\n",
        "\n",
        "plot_confusion_matrix(voting_soft_classifier, xtest, ytest, cmap=plt.cm.Blues)\n",
        "plt.show()"
      ]
    },
    {
      "cell_type": "markdown",
      "metadata": {
        "id": "CZWJFksCzxVd"
      },
      "source": [
        "### Monolithic model (trained on the whole data set)"
      ]
    },
    {
      "cell_type": "code",
      "execution_count": null,
      "metadata": {
        "colab": {
          "base_uri": "https://localhost:8080/"
        },
        "id": "9TgVEspDz84a",
        "outputId": "440e403e-fe29-4ba0-b109-b4890c4d1ead"
      },
      "outputs": [
        {
          "output_type": "stream",
          "name": "stdout",
          "text": [
            "Model: \"sequential\"\n",
            "_________________________________________________________________\n",
            " Layer (type)                Output Shape              Param #   \n",
            "=================================================================\n",
            " dense (Dense)               (None, 512)               401920    \n",
            "                                                                 \n",
            " dropout (Dropout)           (None, 512)               0         \n",
            "                                                                 \n",
            " dense_1 (Dense)             (None, 256)               131328    \n",
            "                                                                 \n",
            " dense_2 (Dense)             (None, 10)                2570      \n",
            "                                                                 \n",
            "=================================================================\n",
            "Total params: 535,818\n",
            "Trainable params: 535,818\n",
            "Non-trainable params: 0\n",
            "_________________________________________________________________\n"
          ]
        }
      ],
      "source": [
        "from tensorflow import keras\n",
        "from keras.callbacks import EarlyStopping\n",
        "\n",
        "model = keras.Sequential([\n",
        "    keras.layers.Dense(512, activation='relu', input_shape=(28*28, )),\n",
        "    keras.layers.Dropout(0.5),\n",
        "    keras.layers.Dense(256, activation='relu'),\n",
        "    keras.layers.Dense(10, activation='softmax')\n",
        "])\n",
        "\n",
        "es = EarlyStopping(monitor='val_loss', mode='min', patience=3, verbose=1)\n",
        "\n",
        "model.compile(\n",
        "    optimizer='rmsprop',\n",
        "    loss='sparse_categorical_crossentropy',\n",
        "    metrics=['accuracy']\n",
        "  )\n",
        "\n",
        "model.summary()"
      ]
    },
    {
      "cell_type": "code",
      "execution_count": null,
      "metadata": {
        "colab": {
          "base_uri": "https://localhost:8080/"
        },
        "id": "82EMGakp0D05",
        "outputId": "673232bd-187d-40a8-c051-359ec5e925e9"
      },
      "outputs": [
        {
          "output_type": "stream",
          "name": "stdout",
          "text": [
            "Epoch 1/7\n",
            "844/844 [==============================] - 6s 4ms/step - loss: 0.2899 - accuracy: 0.9128 - val_loss: 0.1082 - val_accuracy: 0.9672\n",
            "Epoch 2/7\n",
            "844/844 [==============================] - 3s 4ms/step - loss: 0.1526 - accuracy: 0.9549 - val_loss: 0.0869 - val_accuracy: 0.9745\n",
            "Epoch 3/7\n",
            "844/844 [==============================] - 3s 4ms/step - loss: 0.1248 - accuracy: 0.9643 - val_loss: 0.0879 - val_accuracy: 0.9762\n",
            "Epoch 4/7\n",
            "844/844 [==============================] - 3s 4ms/step - loss: 0.1093 - accuracy: 0.9694 - val_loss: 0.0776 - val_accuracy: 0.9797\n",
            "Epoch 5/7\n",
            "844/844 [==============================] - 3s 4ms/step - loss: 0.0996 - accuracy: 0.9719 - val_loss: 0.0782 - val_accuracy: 0.9805\n",
            "Epoch 6/7\n",
            "844/844 [==============================] - 3s 4ms/step - loss: 0.0942 - accuracy: 0.9741 - val_loss: 0.0715 - val_accuracy: 0.9818\n",
            "Epoch 7/7\n",
            "844/844 [==============================] - 3s 4ms/step - loss: 0.0882 - accuracy: 0.9762 - val_loss: 0.0913 - val_accuracy: 0.9785\n"
          ]
        }
      ],
      "source": [
        "# Train the monolithic model\n",
        "\n",
        "epochs: int = 7\n",
        "history = model.fit(xtrain, ytrain, epochs=epochs, validation_split=0.1, batch_size=64, shuffle=True, verbose=1, callbacks=[es])"
      ]
    },
    {
      "cell_type": "code",
      "execution_count": null,
      "metadata": {
        "colab": {
          "base_uri": "https://localhost:8080/",
          "height": 625
        },
        "id": "mfDAHVIo1KBj",
        "outputId": "06493022-580a-4c64-e019-67fcac4914a5"
      },
      "outputs": [
        {
          "output_type": "display_data",
          "data": {
            "text/plain": [
              "<Figure size 432x288 with 1 Axes>"
            ],
            "image/png": "[encoded data removed]"
          },
          "metadata": {
            "needs_background": "light"
          }
        },
        {
          "output_type": "display_data",
          "data": {
            "text/plain": [
              "<Figure size 432x288 with 1 Axes>"
            ],
            "image/png": "[encoded data removed]"
          },
          "metadata": {
            "needs_background": "light"
          }
        },
        {
          "output_type": "stream",
          "name": "stdout",
          "text": [
            "313/313 [==============================] - 1s 3ms/step - loss: 0.0864 - accuracy: 0.9786\n",
            "Test loss    : 0.08637051284313202\n",
            "Test accuracy: 0.978600025177002\n"
          ]
        }
      ],
      "source": [
        "# Plot the loss and accuracy\n",
        "\n",
        "if (es.stopped_epoch != 0): # So that plotting does not fail if EarlyStopping is triggered\n",
        "  epochs: int = es.stopped_epoch + 1\n",
        "\n",
        "train_loss = history.history['loss']\n",
        "val_loss = history.history['val_loss']\n",
        "epochsList = range(0, epochs)\n",
        "plt.plot(epochsList, train_loss, 'g', label='Training loss')\n",
        "plt.plot(epochsList, val_loss, 'b', label='Validation loss')\n",
        "plt.title('Training and Validation loss')\n",
        "plt.xlabel('Epochs')\n",
        "plt.ylabel('Loss')\n",
        "plt.legend()\n",
        "plt.grid()\n",
        "plt.show()\n",
        "\n",
        "\n",
        "train_acc = history.history['accuracy']\n",
        "val_acc = history.history['val_accuracy']\n",
        "plt.plot(epochsList, train_acc, 'g', label='Training accuracy')\n",
        "plt.plot(epochsList, val_acc, 'b', label='Validation accuracy')\n",
        "plt.title('Training and Validation accuracy')\n",
        "plt.xlabel('Epochs')\n",
        "plt.ylabel('Accuracy')\n",
        "plt.legend()\n",
        "plt.grid()\n",
        "plt.show()\n",
        "\n",
        "\n",
        "test_loss, test_acc = model.evaluate(xtest, ytest)\n",
        "print('Test loss    :', test_loss)\n",
        "print('Test accuracy:', test_acc)"
      ]
    },
    {
      "cell_type": "code",
      "execution_count": null,
      "metadata": {
        "colab": {
          "base_uri": "https://localhost:8080/",
          "height": 694
        },
        "id": "SwMA4hS20FlJ",
        "outputId": "57e2b424-e75c-44b8-b97f-d03965252345"
      },
      "outputs": [
        {
          "output_type": "stream",
          "name": "stdout",
          "text": [
            "313/313 [==============================] - 1s 2ms/step\n",
            "Precision score: 0.9789217339711422\n",
            "Recall score   : 0.9783795117669587\n",
            "1875/1875 [==============================] - 3s 2ms/step\n"
          ]
        },
        {
          "output_type": "display_data",
          "data": {
            "text/plain": [
              "<Figure size 432x288 with 0 Axes>"
            ]
          },
          "metadata": {}
        },
        {
          "output_type": "display_data",
          "data": {
            "text/plain": [
              "<Figure size 288x288 with 1 Axes>"
            ],
            "image/png": "[encoded data removed]"
          },
          "metadata": {
            "needs_background": "light"
          }
        },
        {
          "output_type": "stream",
          "name": "stdout",
          "text": [
            "313/313 [==============================] - 1s 2ms/step\n"
          ]
        },
        {
          "output_type": "display_data",
          "data": {
            "text/plain": [
              "<Figure size 432x288 with 0 Axes>"
            ]
          },
          "metadata": {}
        },
        {
          "output_type": "display_data",
          "data": {
            "text/plain": [
              "<Figure size 288x288 with 1 Axes>"
            ],
            "image/png": "[encoded data removed]"
          },
          "metadata": {
            "needs_background": "light"
          }
        }
      ],
      "source": [
        "# Confusion matrix as text\n",
        "\n",
        "from sklearn.metrics import confusion_matrix, precision_score, recall_score\n",
        "from matplotlib.colors import ListedColormap\n",
        "\n",
        "predict_x = model.predict(xtest)\n",
        "keras_pred = np.argmax(predict_x, axis=1)\n",
        "\n",
        "print('Precision score:', precision_score(ytest, keras_pred, average='macro'))\n",
        "print('Recall score   :', recall_score(ytest, keras_pred, average='macro'))\n",
        "\n",
        "\n",
        "cmap = ListedColormap(['lightgrey', 'silver', 'ghostwhite', 'lavender', 'wheat'])\n",
        "\n",
        "# Confusion matrix\n",
        "def cm(ytest, ypred, title):\n",
        "  cm = confusion_matrix(ytest, ypred)\n",
        "\n",
        "  plt.figure()\n",
        "  plt.matshow(cm, cmap=cmap)\n",
        "  \n",
        "  for i in range(cm.shape[0]):\n",
        "    for j in range(cm.shape[1]):\n",
        "      plt.text(x=j, y=i, s=cm[i,j], va='center', ha='center')\n",
        "  \n",
        "  plt.title(title)\n",
        "  plt.xlabel('Predicted label')\n",
        "  plt.ylabel('True label')\n",
        "  plt.show()\n",
        "\n",
        "cm(ytrain, model.predict(xtrain).argmax(1), title='Train')\n",
        "cm(ytest, model.predict(xtest).argmax(1), title='Test')"
      ]
    },
    {
      "cell_type": "markdown",
      "source": [
        "### Monolithic vs ensemble, conclusion "
      ],
      "metadata": {
        "id": "VQNfIlgJjRK2"
      }
    },
    {
      "cell_type": "code",
      "source": [
        "from sklearn.metrics import accuracy_score\n",
        "\n",
        "\n",
        "print('Ensemble, hard voting    :', accuracy_score(ytest, hard_predictions))\n",
        "\n",
        "print('Ensemble, soft voting    :', accuracy_score(ytest, soft_predictions))\n",
        "\n",
        "val_pred = np.argmax(model.predict(xtest), axis=-1)\n",
        "print('Monolithic model accuracy:', accuracy_score(ytest, val_pred))"
      ],
      "metadata": {
        "colab": {
          "base_uri": "https://localhost:8080/"
        },
        "id": "Ui0ZBhmqkSn9",
        "outputId": "9b0f2402-9912-4da3-bf9a-97e796e9922e"
      },
      "execution_count": null,
      "outputs": [
        {
          "output_type": "stream",
          "name": "stdout",
          "text": [
            "Ensemble, hard voting    : 0.9809\n",
            "Ensemble, soft voting    : 0.9841\n",
            "313/313 [==============================] - 1s 2ms/step\n",
            "Monolithic model accuracy: 0.9786\n"
          ]
        }
      ]
    }
  ],
  "metadata": {
    "accelerator": "GPU",
    "colab": {
      "provenance": [],
      "authorship_tag": "ABX9TyPz/Tg7ysNW/WrudywawK4E",
      "include_colab_link": true
    },
    "kernelspec": {
      "display_name": "Python 3",
      "name": "python3"
    },
    "language_info": {
      "name": "python"
    }
  },
  "nbformat": 4,
  "nbformat_minor": 0
}